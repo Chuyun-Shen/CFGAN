{
 "nbformat": 4,
 "nbformat_minor": 2,
 "metadata": {
  "language_info": {
   "name": "python",
   "codemirror_mode": {
    "name": "ipython",
    "version": 3
   },
   "version": "3.7.4-final"
  },
  "orig_nbformat": 2,
  "file_extension": ".py",
  "mimetype": "text/x-python",
  "name": "python",
  "npconvert_exporter": "python",
  "pygments_lexer": "ipython3",
  "version": 3,
  "kernelspec": {
   "name": "python37464bitanaconda3conda5df9da8887984ee4b635526a125f85b2",
   "display_name": "Python 3.7.4 64-bit ('anaconda3': conda)"
  }
 },
 "cells": [
  {
   "source": [
    "import torch\n",
    "import torch.nn as nn\n",
    "import torch.nn.functional as F\n",
    "\n",
    "import pandas as pd\n",
    "import numpy as np\n",
    "\n",
    "import matplotlib.pyplot as plt"
   ],
   "cell_type": "code",
   "outputs": [],
   "metadata": {},
   "execution_count": 1
  },
  {
   "source": [
    "COLUMNS = [\"age\", \"workclass\", \"edu_level\",\n",
    "           \"marital_status\", \"occupation\", \"relationship\",\n",
    "           \"race\", \"sex\", \"hours_per_week\",\n",
    "           \"native_country\", \"income\"]\n",
    "\n",
    "train_df = pd.read_csv(\n",
    "    filepath_or_buffer=\"https://archive.ics.uci.edu/ml/machine-learning-databases/adult/adult.data\",\n",
    "    names=COLUMNS,\n",
    "    engine='python',\n",
    "    usecols=[0, 1, 4, 5, 6, 7, 8, 9, 12, 13, 14],\n",
    "    sep=r'\\s*,\\s*',\n",
    "    na_values=\"?\"\n",
    ")\n",
    "\n",
    "test_df = pd.read_csv(\n",
    "    filepath_or_buffer=\"https://archive.ics.uci.edu/ml/machine-learning-databases/adult/adult.test\",\n",
    "    names=COLUMNS,\n",
    "    skiprows=[0],\n",
    "    engine='python',\n",
    "    usecols=[0, 1, 4, 5, 6, 7, 8, 9, 12, 13, 14],\n",
    "    sep=r'\\s*,\\s*',\n",
    "    na_values=\"?\"\n",
    ")\n",
    ""
   ],
   "cell_type": "code",
   "outputs": [],
   "metadata": {},
   "execution_count": 2
  },
  {
   "source": [
    "# Drop rows with missing values\n",
    "train_df = train_df.dropna(how=\"any\", axis=0)\n",
    "test_df = test_df.dropna(how=\"any\", axis=0)\n",
    "\n",
    "# To reduce the complexity, we binarize the attribute\n",
    "# To reduce the complexity, we binarize the attribute\n",
    "\n",
    "\n",
    "def mapping(tuple):\n",
    "    # age, 37\n",
    "    tuple['age'] = 1 if tuple['age'] > 37 else 0\n",
    "    # workclass\n",
    "    tuple['workclass'] = 0 if tuple['workclass'] != 'Private' else 1\n",
    "    # edu-level\n",
    "    tuple['edu_level'] = 1 if tuple['edu_level'] > 9 else 0\n",
    "    # maritial statue\n",
    "    tuple['marital_status'] = 1 if tuple['marital_status'] == \"Married-civ-spouse\" else 0\n",
    "    # occupation\n",
    "    tuple['occupation'] = 1 if tuple['occupation'] == \"Craft-repair\" else 0\n",
    "    # relationship\n",
    "    tuple['relationship'] = 0 if tuple['relationship'] == \"Not-in-family\" else 1\n",
    "    # race\n",
    "    tuple['race'] = 0 if tuple['race'] != \"White\" else 1\n",
    "    # sex\n",
    "    tuple['sex'] = 0 if tuple['sex'] != \"Male\" else 1\n",
    "    # hours per week\n",
    "    tuple['hours_per_week'] = 1 if tuple['hours_per_week'] > 40 else 0\n",
    "    # native country\n",
    "    tuple['native_country'] = 1 if tuple['native_country'] == \"United-States\" else 0\n",
    "    # income\n",
    "    tuple['income'] = 1 if tuple['income'] == '>50K' or tuple['income'] == '>50K.' else 0\n",
    "    return tuple\n",
    "\n",
    "\n",
    "train_df = train_df.apply(mapping, axis=1)\n",
    "test_df = test_df.apply(mapping, axis=1)"
   ],
   "cell_type": "code",
   "outputs": [],
   "metadata": {},
   "execution_count": 3
  },
  {
   "source": [
    "train_df"
   ],
   "cell_type": "code",
   "outputs": [
    {
     "output_type": "execute_result",
     "data": {
      "text/plain": "       age  workclass  edu_level  marital_status  occupation  relationship  \\\n0        1          0          1               0           0             0   \n1        1          0          1               1           0             1   \n2        1          1          0               0           0             0   \n3        1          1          0               1           0             1   \n4        0          1          1               1           0             1   \n...    ...        ...        ...             ...         ...           ...   \n32556    0          1          1               1           0             1   \n32557    1          1          0               1           0             1   \n32558    1          1          0               0           0             1   \n32559    0          1          0               0           0             1   \n32560    1          0          0               1           0             1   \n\n       race  sex  hours_per_week  native_country  income  \n0         1    1               0               1       0  \n1         1    1               0               1       0  \n2         1    1               0               1       0  \n3         0    1               0               1       0  \n4         0    0               0               0       0  \n...     ...  ...             ...             ...     ...  \n32556     1    0               0               1       0  \n32557     1    1               0               1       1  \n32558     1    0               0               1       0  \n32559     1    1               0               1       0  \n32560     1    0               0               1       1  \n\n[30162 rows x 11 columns]",
      "text/html": "<div>\n<style scoped>\n    .dataframe tbody tr th:only-of-type {\n        vertical-align: middle;\n    }\n\n    .dataframe tbody tr th {\n        vertical-align: top;\n    }\n\n    .dataframe thead th {\n        text-align: right;\n    }\n</style>\n<table border=\"1\" class=\"dataframe\">\n  <thead>\n    <tr style=\"text-align: right;\">\n      <th></th>\n      <th>age</th>\n      <th>workclass</th>\n      <th>edu_level</th>\n      <th>marital_status</th>\n      <th>occupation</th>\n      <th>relationship</th>\n      <th>race</th>\n      <th>sex</th>\n      <th>hours_per_week</th>\n      <th>native_country</th>\n      <th>income</th>\n    </tr>\n  </thead>\n  <tbody>\n    <tr>\n      <td>0</td>\n      <td>1</td>\n      <td>0</td>\n      <td>1</td>\n      <td>0</td>\n      <td>0</td>\n      <td>0</td>\n      <td>1</td>\n      <td>1</td>\n      <td>0</td>\n      <td>1</td>\n      <td>0</td>\n    </tr>\n    <tr>\n      <td>1</td>\n      <td>1</td>\n      <td>0</td>\n      <td>1</td>\n      <td>1</td>\n      <td>0</td>\n      <td>1</td>\n      <td>1</td>\n      <td>1</td>\n      <td>0</td>\n      <td>1</td>\n      <td>0</td>\n    </tr>\n    <tr>\n      <td>2</td>\n      <td>1</td>\n      <td>1</td>\n      <td>0</td>\n      <td>0</td>\n      <td>0</td>\n      <td>0</td>\n      <td>1</td>\n      <td>1</td>\n      <td>0</td>\n      <td>1</td>\n      <td>0</td>\n    </tr>\n    <tr>\n      <td>3</td>\n      <td>1</td>\n      <td>1</td>\n      <td>0</td>\n      <td>1</td>\n      <td>0</td>\n      <td>1</td>\n      <td>0</td>\n      <td>1</td>\n      <td>0</td>\n      <td>1</td>\n      <td>0</td>\n    </tr>\n    <tr>\n      <td>4</td>\n      <td>0</td>\n      <td>1</td>\n      <td>1</td>\n      <td>1</td>\n      <td>0</td>\n      <td>1</td>\n      <td>0</td>\n      <td>0</td>\n      <td>0</td>\n      <td>0</td>\n      <td>0</td>\n    </tr>\n    <tr>\n      <td>...</td>\n      <td>...</td>\n      <td>...</td>\n      <td>...</td>\n      <td>...</td>\n      <td>...</td>\n      <td>...</td>\n      <td>...</td>\n      <td>...</td>\n      <td>...</td>\n      <td>...</td>\n      <td>...</td>\n    </tr>\n    <tr>\n      <td>32556</td>\n      <td>0</td>\n      <td>1</td>\n      <td>1</td>\n      <td>1</td>\n      <td>0</td>\n      <td>1</td>\n      <td>1</td>\n      <td>0</td>\n      <td>0</td>\n      <td>1</td>\n      <td>0</td>\n    </tr>\n    <tr>\n      <td>32557</td>\n      <td>1</td>\n      <td>1</td>\n      <td>0</td>\n      <td>1</td>\n      <td>0</td>\n      <td>1</td>\n      <td>1</td>\n      <td>1</td>\n      <td>0</td>\n      <td>1</td>\n      <td>1</td>\n    </tr>\n    <tr>\n      <td>32558</td>\n      <td>1</td>\n      <td>1</td>\n      <td>0</td>\n      <td>0</td>\n      <td>0</td>\n      <td>1</td>\n      <td>1</td>\n      <td>0</td>\n      <td>0</td>\n      <td>1</td>\n      <td>0</td>\n    </tr>\n    <tr>\n      <td>32559</td>\n      <td>0</td>\n      <td>1</td>\n      <td>0</td>\n      <td>0</td>\n      <td>0</td>\n      <td>1</td>\n      <td>1</td>\n      <td>1</td>\n      <td>0</td>\n      <td>1</td>\n      <td>0</td>\n    </tr>\n    <tr>\n      <td>32560</td>\n      <td>1</td>\n      <td>0</td>\n      <td>0</td>\n      <td>1</td>\n      <td>0</td>\n      <td>1</td>\n      <td>1</td>\n      <td>0</td>\n      <td>0</td>\n      <td>1</td>\n      <td>1</td>\n    </tr>\n  </tbody>\n</table>\n<p>30162 rows × 11 columns</p>\n</div>"
     },
     "metadata": {},
     "execution_count": 4
    }
   ],
   "metadata": {},
   "execution_count": 4
  },
  {
   "source": [
    "train_df[\"occupation\"][:30]"
   ],
   "cell_type": "code",
   "outputs": [
    {
     "output_type": "execute_result",
     "data": {
      "text/plain": "0     0\n1     0\n2     0\n3     0\n4     0\n5     0\n6     0\n7     0\n8     0\n9     0\n10    0\n11    0\n12    0\n13    0\n15    0\n16    0\n17    0\n18    0\n19    0\n20    0\n21    0\n22    0\n23    0\n24    0\n25    0\n26    1\n28    0\n29    1\n30    0\n31    0\nName: occupation, dtype: int64"
     },
     "metadata": {},
     "execution_count": 5
    }
   ],
   "metadata": {},
   "execution_count": 5
  },
  {
   "source": [
    "train_data = torch.from_numpy(train_df.values)\n",
    "test_data = torch.from_numpy(test_df.values)\n",
    "print(train_data.size())\n",
    "print(test_data.size())\n",
    "dataset = torch.cat((train_data,test_data), 0)\n",
    "print(dataset.size())"
   ],
   "cell_type": "code",
   "outputs": [
    {
     "output_type": "stream",
     "name": "stdout",
     "text": "torch.Size([30162, 11])\ntorch.Size([15060, 11])\ntorch.Size([45222, 11])\n"
    }
   ],
   "metadata": {},
   "execution_count": 20
  },
  {
   "source": [
    "print(dataset.size()[0])"
   ],
   "cell_type": "code",
   "outputs": [
    {
     "output_type": "stream",
     "name": "stdout",
     "text": "45222\n"
    }
   ],
   "metadata": {},
   "execution_count": 25
  },
  {
   "source": [
    "from torch.utils.data import Dataset,DataLoader\n",
    "class AdultDataset(Dataset):\n",
    "    def __init__(self, data_set):\n",
    "        self.x = data_set\n",
    "        self.len = data_set.size()[0]\n",
    "    def __getitem__(self,index):\n",
    "        return self.x[index]\n",
    "    def __len__(self):\n",
    "        return self.len\n",
    "adultDataset = AdultDataset(dataset)\n",
    "dataLoader = DataLoader(dataset=adultDataset, batch_size=128, shuffle=True)\n",
    "\n",
    ""
   ],
   "cell_type": "code",
   "outputs": [],
   "metadata": {},
   "execution_count": 38
  },
  {
   "source": [
    "dataIter = iter(dataLoader)\n",
    "n = next(dataIter)"
   ],
   "cell_type": "code",
   "outputs": [],
   "metadata": {},
   "execution_count": 39
  },
  {
   "source": [
    "n"
   ],
   "cell_type": "code",
   "outputs": [
    {
     "output_type": "execute_result",
     "data": {
      "text/plain": "tensor([[0, 0, 0,  ..., 0, 1, 0],\n        [1, 0, 1,  ..., 0, 1, 1],\n        [0, 1, 0,  ..., 0, 1, 0],\n        ...,\n        [1, 1, 1,  ..., 0, 1, 0],\n        [0, 1, 1,  ..., 1, 1, 1],\n        [1, 1, 0,  ..., 0, 1, 0]])"
     },
     "metadata": {},
     "execution_count": 41
    }
   ],
   "metadata": {},
   "execution_count": 41
  },
  {
   "cell_type": "code",
   "execution_count": null,
   "metadata": {},
   "outputs": [],
   "source": []
  }
 ]
}